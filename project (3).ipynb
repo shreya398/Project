{
 "cells": [
  {
   "cell_type": "code",
   "execution_count": 15,
   "id": "479f6d72",
   "metadata": {},
   "outputs": [],
   "source": [
    "import numpy as np\n",
    "import pandas as pd\n",
    "from datetime import datetime\n",
    "import warnings\n",
    "warnings.filterwarnings(\"ignore\")"
   ]
  },
  {
   "cell_type": "code",
   "execution_count": 16,
   "id": "38a3e7cc",
   "metadata": {},
   "outputs": [
    {
     "data": {
      "text/html": [
       "<div>\n",
       "<style scoped>\n",
       "    .dataframe tbody tr th:only-of-type {\n",
       "        vertical-align: middle;\n",
       "    }\n",
       "\n",
       "    .dataframe tbody tr th {\n",
       "        vertical-align: top;\n",
       "    }\n",
       "\n",
       "    .dataframe thead th {\n",
       "        text-align: right;\n",
       "    }\n",
       "</style>\n",
       "<table border=\"1\" class=\"dataframe\">\n",
       "  <thead>\n",
       "    <tr style=\"text-align: right;\">\n",
       "      <th></th>\n",
       "      <th>Date</th>\n",
       "      <th>Open</th>\n",
       "      <th>High</th>\n",
       "      <th>Low</th>\n",
       "      <th>Close</th>\n",
       "      <th>Adj Close</th>\n",
       "      <th>Volume</th>\n",
       "    </tr>\n",
       "  </thead>\n",
       "  <tbody>\n",
       "    <tr>\n",
       "      <th>0</th>\n",
       "      <td>2012-01-03</td>\n",
       "      <td>58.485714</td>\n",
       "      <td>58.928570</td>\n",
       "      <td>58.428570</td>\n",
       "      <td>58.747143</td>\n",
       "      <td>50.765709</td>\n",
       "      <td>75555200</td>\n",
       "    </tr>\n",
       "    <tr>\n",
       "      <th>1</th>\n",
       "      <td>2012-01-04</td>\n",
       "      <td>58.571430</td>\n",
       "      <td>59.240002</td>\n",
       "      <td>58.468571</td>\n",
       "      <td>59.062859</td>\n",
       "      <td>51.038536</td>\n",
       "      <td>65005500</td>\n",
       "    </tr>\n",
       "    <tr>\n",
       "      <th>2</th>\n",
       "      <td>2012-01-05</td>\n",
       "      <td>59.278572</td>\n",
       "      <td>59.792858</td>\n",
       "      <td>58.952858</td>\n",
       "      <td>59.718571</td>\n",
       "      <td>51.605175</td>\n",
       "      <td>67817400</td>\n",
       "    </tr>\n",
       "    <tr>\n",
       "      <th>3</th>\n",
       "      <td>2012-01-06</td>\n",
       "      <td>59.967144</td>\n",
       "      <td>60.392857</td>\n",
       "      <td>59.888573</td>\n",
       "      <td>60.342857</td>\n",
       "      <td>52.144630</td>\n",
       "      <td>79573200</td>\n",
       "    </tr>\n",
       "    <tr>\n",
       "      <th>4</th>\n",
       "      <td>2012-01-09</td>\n",
       "      <td>60.785713</td>\n",
       "      <td>61.107143</td>\n",
       "      <td>60.192856</td>\n",
       "      <td>60.247143</td>\n",
       "      <td>52.061932</td>\n",
       "      <td>98506100</td>\n",
       "    </tr>\n",
       "    <tr>\n",
       "      <th>...</th>\n",
       "      <td>...</td>\n",
       "      <td>...</td>\n",
       "      <td>...</td>\n",
       "      <td>...</td>\n",
       "      <td>...</td>\n",
       "      <td>...</td>\n",
       "      <td>...</td>\n",
       "    </tr>\n",
       "    <tr>\n",
       "      <th>2006</th>\n",
       "      <td>2019-12-23</td>\n",
       "      <td>280.529999</td>\n",
       "      <td>284.250000</td>\n",
       "      <td>280.369995</td>\n",
       "      <td>284.000000</td>\n",
       "      <td>282.054138</td>\n",
       "      <td>24643000</td>\n",
       "    </tr>\n",
       "    <tr>\n",
       "      <th>2007</th>\n",
       "      <td>2019-12-24</td>\n",
       "      <td>284.690002</td>\n",
       "      <td>284.890015</td>\n",
       "      <td>282.920013</td>\n",
       "      <td>284.269989</td>\n",
       "      <td>282.322266</td>\n",
       "      <td>12119700</td>\n",
       "    </tr>\n",
       "    <tr>\n",
       "      <th>2008</th>\n",
       "      <td>2019-12-26</td>\n",
       "      <td>284.820007</td>\n",
       "      <td>289.980011</td>\n",
       "      <td>284.700012</td>\n",
       "      <td>289.910004</td>\n",
       "      <td>287.923645</td>\n",
       "      <td>23280300</td>\n",
       "    </tr>\n",
       "    <tr>\n",
       "      <th>2009</th>\n",
       "      <td>2019-12-27</td>\n",
       "      <td>291.119995</td>\n",
       "      <td>293.970001</td>\n",
       "      <td>288.119995</td>\n",
       "      <td>289.799988</td>\n",
       "      <td>287.814392</td>\n",
       "      <td>36566500</td>\n",
       "    </tr>\n",
       "    <tr>\n",
       "      <th>2010</th>\n",
       "      <td>2019-12-30</td>\n",
       "      <td>289.459991</td>\n",
       "      <td>292.690002</td>\n",
       "      <td>285.220001</td>\n",
       "      <td>291.519989</td>\n",
       "      <td>289.522614</td>\n",
       "      <td>36028600</td>\n",
       "    </tr>\n",
       "  </tbody>\n",
       "</table>\n",
       "<p>2011 rows × 7 columns</p>\n",
       "</div>"
      ],
      "text/plain": [
       "            Date        Open        High         Low       Close   Adj Close  \\\n",
       "0     2012-01-03   58.485714   58.928570   58.428570   58.747143   50.765709   \n",
       "1     2012-01-04   58.571430   59.240002   58.468571   59.062859   51.038536   \n",
       "2     2012-01-05   59.278572   59.792858   58.952858   59.718571   51.605175   \n",
       "3     2012-01-06   59.967144   60.392857   59.888573   60.342857   52.144630   \n",
       "4     2012-01-09   60.785713   61.107143   60.192856   60.247143   52.061932   \n",
       "...          ...         ...         ...         ...         ...         ...   \n",
       "2006  2019-12-23  280.529999  284.250000  280.369995  284.000000  282.054138   \n",
       "2007  2019-12-24  284.690002  284.890015  282.920013  284.269989  282.322266   \n",
       "2008  2019-12-26  284.820007  289.980011  284.700012  289.910004  287.923645   \n",
       "2009  2019-12-27  291.119995  293.970001  288.119995  289.799988  287.814392   \n",
       "2010  2019-12-30  289.459991  292.690002  285.220001  291.519989  289.522614   \n",
       "\n",
       "        Volume  \n",
       "0     75555200  \n",
       "1     65005500  \n",
       "2     67817400  \n",
       "3     79573200  \n",
       "4     98506100  \n",
       "...        ...  \n",
       "2006  24643000  \n",
       "2007  12119700  \n",
       "2008  23280300  \n",
       "2009  36566500  \n",
       "2010  36028600  \n",
       "\n",
       "[2011 rows x 7 columns]"
      ]
     },
     "execution_count": 16,
     "metadata": {},
     "output_type": "execute_result"
    }
   ],
   "source": [
    "df= pd.read_csv(\"AAPL.csv\")\n",
    "df"
   ]
  },
  {
   "cell_type": "code",
   "execution_count": 17,
   "id": "849a1a1f",
   "metadata": {},
   "outputs": [
    {
     "data": {
      "text/plain": [
       "Date         0\n",
       "Open         0\n",
       "High         0\n",
       "Low          0\n",
       "Close        0\n",
       "Adj Close    0\n",
       "Volume       0\n",
       "dtype: int64"
      ]
     },
     "execution_count": 17,
     "metadata": {},
     "output_type": "execute_result"
    }
   ],
   "source": [
    "df.isna().sum()"
   ]
  },
  {
   "cell_type": "code",
   "execution_count": 18,
   "id": "6a2b125d",
   "metadata": {},
   "outputs": [
    {
     "name": "stdout",
     "output_type": "stream",
     "text": [
      "<class 'pandas.core.frame.DataFrame'>\n",
      "RangeIndex: 2011 entries, 0 to 2010\n",
      "Data columns (total 7 columns):\n",
      " #   Column     Non-Null Count  Dtype  \n",
      "---  ------     --------------  -----  \n",
      " 0   Date       2011 non-null   object \n",
      " 1   Open       2011 non-null   float64\n",
      " 2   High       2011 non-null   float64\n",
      " 3   Low        2011 non-null   float64\n",
      " 4   Close      2011 non-null   float64\n",
      " 5   Adj Close  2011 non-null   float64\n",
      " 6   Volume     2011 non-null   int64  \n",
      "dtypes: float64(5), int64(1), object(1)\n",
      "memory usage: 110.1+ KB\n"
     ]
    }
   ],
   "source": [
    "df.info()"
   ]
  },
  {
   "cell_type": "code",
   "execution_count": 19,
   "id": "5f8a3e7e",
   "metadata": {},
   "outputs": [],
   "source": [
    "df[\"Date\"]=pd.to_datetime(df[\"Date\"])"
   ]
  },
  {
   "cell_type": "code",
   "execution_count": 20,
   "id": "bbca48a7",
   "metadata": {},
   "outputs": [
    {
     "data": {
      "text/html": [
       "<div>\n",
       "<style scoped>\n",
       "    .dataframe tbody tr th:only-of-type {\n",
       "        vertical-align: middle;\n",
       "    }\n",
       "\n",
       "    .dataframe tbody tr th {\n",
       "        vertical-align: top;\n",
       "    }\n",
       "\n",
       "    .dataframe thead th {\n",
       "        text-align: right;\n",
       "    }\n",
       "</style>\n",
       "<table border=\"1\" class=\"dataframe\">\n",
       "  <thead>\n",
       "    <tr style=\"text-align: right;\">\n",
       "      <th></th>\n",
       "      <th>Open</th>\n",
       "      <th>High</th>\n",
       "      <th>Low</th>\n",
       "      <th>Close</th>\n",
       "      <th>Adj Close</th>\n",
       "      <th>Volume</th>\n",
       "    </tr>\n",
       "    <tr>\n",
       "      <th>Date</th>\n",
       "      <th></th>\n",
       "      <th></th>\n",
       "      <th></th>\n",
       "      <th></th>\n",
       "      <th></th>\n",
       "      <th></th>\n",
       "    </tr>\n",
       "  </thead>\n",
       "  <tbody>\n",
       "    <tr>\n",
       "      <th>2012-01-03</th>\n",
       "      <td>58.485714</td>\n",
       "      <td>58.928570</td>\n",
       "      <td>58.428570</td>\n",
       "      <td>58.747143</td>\n",
       "      <td>50.765709</td>\n",
       "      <td>75555200</td>\n",
       "    </tr>\n",
       "    <tr>\n",
       "      <th>2012-01-04</th>\n",
       "      <td>58.571430</td>\n",
       "      <td>59.240002</td>\n",
       "      <td>58.468571</td>\n",
       "      <td>59.062859</td>\n",
       "      <td>51.038536</td>\n",
       "      <td>65005500</td>\n",
       "    </tr>\n",
       "    <tr>\n",
       "      <th>2012-01-05</th>\n",
       "      <td>59.278572</td>\n",
       "      <td>59.792858</td>\n",
       "      <td>58.952858</td>\n",
       "      <td>59.718571</td>\n",
       "      <td>51.605175</td>\n",
       "      <td>67817400</td>\n",
       "    </tr>\n",
       "    <tr>\n",
       "      <th>2012-01-06</th>\n",
       "      <td>59.967144</td>\n",
       "      <td>60.392857</td>\n",
       "      <td>59.888573</td>\n",
       "      <td>60.342857</td>\n",
       "      <td>52.144630</td>\n",
       "      <td>79573200</td>\n",
       "    </tr>\n",
       "    <tr>\n",
       "      <th>2012-01-09</th>\n",
       "      <td>60.785713</td>\n",
       "      <td>61.107143</td>\n",
       "      <td>60.192856</td>\n",
       "      <td>60.247143</td>\n",
       "      <td>52.061932</td>\n",
       "      <td>98506100</td>\n",
       "    </tr>\n",
       "    <tr>\n",
       "      <th>...</th>\n",
       "      <td>...</td>\n",
       "      <td>...</td>\n",
       "      <td>...</td>\n",
       "      <td>...</td>\n",
       "      <td>...</td>\n",
       "      <td>...</td>\n",
       "    </tr>\n",
       "    <tr>\n",
       "      <th>2019-12-23</th>\n",
       "      <td>280.529999</td>\n",
       "      <td>284.250000</td>\n",
       "      <td>280.369995</td>\n",
       "      <td>284.000000</td>\n",
       "      <td>282.054138</td>\n",
       "      <td>24643000</td>\n",
       "    </tr>\n",
       "    <tr>\n",
       "      <th>2019-12-24</th>\n",
       "      <td>284.690002</td>\n",
       "      <td>284.890015</td>\n",
       "      <td>282.920013</td>\n",
       "      <td>284.269989</td>\n",
       "      <td>282.322266</td>\n",
       "      <td>12119700</td>\n",
       "    </tr>\n",
       "    <tr>\n",
       "      <th>2019-12-26</th>\n",
       "      <td>284.820007</td>\n",
       "      <td>289.980011</td>\n",
       "      <td>284.700012</td>\n",
       "      <td>289.910004</td>\n",
       "      <td>287.923645</td>\n",
       "      <td>23280300</td>\n",
       "    </tr>\n",
       "    <tr>\n",
       "      <th>2019-12-27</th>\n",
       "      <td>291.119995</td>\n",
       "      <td>293.970001</td>\n",
       "      <td>288.119995</td>\n",
       "      <td>289.799988</td>\n",
       "      <td>287.814392</td>\n",
       "      <td>36566500</td>\n",
       "    </tr>\n",
       "    <tr>\n",
       "      <th>2019-12-30</th>\n",
       "      <td>289.459991</td>\n",
       "      <td>292.690002</td>\n",
       "      <td>285.220001</td>\n",
       "      <td>291.519989</td>\n",
       "      <td>289.522614</td>\n",
       "      <td>36028600</td>\n",
       "    </tr>\n",
       "  </tbody>\n",
       "</table>\n",
       "<p>2011 rows × 6 columns</p>\n",
       "</div>"
      ],
      "text/plain": [
       "                  Open        High         Low       Close   Adj Close  \\\n",
       "Date                                                                     \n",
       "2012-01-03   58.485714   58.928570   58.428570   58.747143   50.765709   \n",
       "2012-01-04   58.571430   59.240002   58.468571   59.062859   51.038536   \n",
       "2012-01-05   59.278572   59.792858   58.952858   59.718571   51.605175   \n",
       "2012-01-06   59.967144   60.392857   59.888573   60.342857   52.144630   \n",
       "2012-01-09   60.785713   61.107143   60.192856   60.247143   52.061932   \n",
       "...                ...         ...         ...         ...         ...   \n",
       "2019-12-23  280.529999  284.250000  280.369995  284.000000  282.054138   \n",
       "2019-12-24  284.690002  284.890015  282.920013  284.269989  282.322266   \n",
       "2019-12-26  284.820007  289.980011  284.700012  289.910004  287.923645   \n",
       "2019-12-27  291.119995  293.970001  288.119995  289.799988  287.814392   \n",
       "2019-12-30  289.459991  292.690002  285.220001  291.519989  289.522614   \n",
       "\n",
       "              Volume  \n",
       "Date                  \n",
       "2012-01-03  75555200  \n",
       "2012-01-04  65005500  \n",
       "2012-01-05  67817400  \n",
       "2012-01-06  79573200  \n",
       "2012-01-09  98506100  \n",
       "...              ...  \n",
       "2019-12-23  24643000  \n",
       "2019-12-24  12119700  \n",
       "2019-12-26  23280300  \n",
       "2019-12-27  36566500  \n",
       "2019-12-30  36028600  \n",
       "\n",
       "[2011 rows x 6 columns]"
      ]
     },
     "execution_count": 20,
     "metadata": {},
     "output_type": "execute_result"
    }
   ],
   "source": [
    "data=df.set_index([\"Date\"])\n",
    "data"
   ]
  },
  {
   "cell_type": "code",
   "execution_count": 21,
   "id": "fdce3f2d",
   "metadata": {},
   "outputs": [
    {
     "ename": "ModuleNotFoundError",
     "evalue": "No module named 'seaborn'",
     "output_type": "error",
     "traceback": [
      "\u001b[1;31m---------------------------------------------------------------------------\u001b[0m",
      "\u001b[1;31mModuleNotFoundError\u001b[0m                       Traceback (most recent call last)",
      "\u001b[1;32m~\\AppData\\Local\\Temp\\ipykernel_15132\\1405807002.py\u001b[0m in \u001b[0;36m<module>\u001b[1;34m\u001b[0m\n\u001b[1;32m----> 1\u001b[1;33m \u001b[1;32mimport\u001b[0m \u001b[0mseaborn\u001b[0m \u001b[1;32mas\u001b[0m \u001b[0msns\u001b[0m\u001b[1;33m\u001b[0m\u001b[1;33m\u001b[0m\u001b[0m\n\u001b[0m\u001b[0;32m      2\u001b[0m \u001b[1;32mimport\u001b[0m \u001b[0mmatplotlib\u001b[0m\u001b[1;33m.\u001b[0m\u001b[0mpyplot\u001b[0m \u001b[1;32mas\u001b[0m \u001b[0mplt\u001b[0m\u001b[1;33m\u001b[0m\u001b[1;33m\u001b[0m\u001b[0m\n\u001b[0;32m      3\u001b[0m \u001b[0mget_ipython\u001b[0m\u001b[1;33m(\u001b[0m\u001b[1;33m)\u001b[0m\u001b[1;33m.\u001b[0m\u001b[0mrun_line_magic\u001b[0m\u001b[1;33m(\u001b[0m\u001b[1;34m'matplotlib'\u001b[0m\u001b[1;33m,\u001b[0m \u001b[1;34m'inline'\u001b[0m\u001b[1;33m)\u001b[0m\u001b[1;33m\u001b[0m\u001b[1;33m\u001b[0m\u001b[0m\n",
      "\u001b[1;31mModuleNotFoundError\u001b[0m: No module named 'seaborn'"
     ]
    }
   ],
   "source": [
    "import seaborn as sns\n",
    "import matplotlib.pyplot as plt\n",
    "%matplotlib inline"
   ]
  },
  {
   "cell_type": "code",
   "execution_count": null,
   "id": "4a2e35f7",
   "metadata": {},
   "outputs": [],
   "source": [
    "fig, axes = plt.subplots(figsize=(20,12))\n",
    "\n",
    "sns.lineplot(data.index, data['Open'],label='Open')\n",
    "sns.lineplot(data.index, data['Close'],label='Close')\n",
    "sns.lineplot(data.index, data['High'],label='High')\n",
    "sns.lineplot(data.index, data['Low'],label='Low')\n",
    "sns.lineplot(data.index, data['Adj Close'],label='Adj Close')"
   ]
  },
  {
   "cell_type": "code",
   "execution_count": null,
   "id": "77902016",
   "metadata": {},
   "outputs": [],
   "source": [
    "data['Close'].plot(figsize=(18,6))"
   ]
  },
  {
   "cell_type": "code",
   "execution_count": null,
   "id": "d1b23561",
   "metadata": {},
   "outputs": [],
   "source": [
    "data.resample(rule= 'A').max()"
   ]
  },
  {
   "cell_type": "code",
   "execution_count": null,
   "id": "76a82dab",
   "metadata": {},
   "outputs": [],
   "source": [
    "data.resample(rule= 'A').max().plot()"
   ]
  },
  {
   "cell_type": "code",
   "execution_count": null,
   "id": "e77acef5",
   "metadata": {},
   "outputs": [],
   "source": [
    "# quaterlary\n",
    "data.resample(rule= 'A').max()['Close'].plot()"
   ]
  },
  {
   "cell_type": "code",
   "execution_count": null,
   "id": "4e343914",
   "metadata": {},
   "outputs": [],
   "source": [
    "data.resample(rule= 'M').max()['Close'].plot()"
   ]
  },
  {
   "cell_type": "code",
   "execution_count": null,
   "id": "b5e78981",
   "metadata": {},
   "outputs": [],
   "source": [
    "data.resample(rule= 'Q').mean()['Close'].plot(kind=\"line\")"
   ]
  },
  {
   "cell_type": "code",
   "execution_count": null,
   "id": "fb2ea2b9",
   "metadata": {},
   "outputs": [],
   "source": [
    "import matplotlib.pyplot as plt"
   ]
  },
  {
   "cell_type": "code",
   "execution_count": null,
   "id": "c1786aa1",
   "metadata": {},
   "outputs": [],
   "source": [
    "##Checking Distribution of Our Data \n",
    "fig = plt.figure(figsize=(10,8))\n",
    "sns.distplot(data['Close']).set_title(\"Distribution Plot Close AAPL\")\n",
    "plt.tick_params(labelsize=12)\n",
    "sns.set(font_scale=1)\n",
    "plt.xticks(fontsize=16)\n",
    "plt.yticks(fontsize=16)"
   ]
  },
  {
   "cell_type": "code",
   "execution_count": null,
   "id": "7041ec4c",
   "metadata": {},
   "outputs": [],
   "source": [
    "from statsmodels.graphics.gofplots import qqplot as qq"
   ]
  },
  {
   "cell_type": "code",
   "execution_count": null,
   "id": "c2f90d40",
   "metadata": {},
   "outputs": [],
   "source": [
    "qq_plot = qq(data['Close'],line='s')\n",
    "plt.title('QQ Plot Apple Stock Price')"
   ]
  },
  {
   "cell_type": "code",
   "execution_count": null,
   "id": "95a0d32f",
   "metadata": {},
   "outputs": [],
   "source": [
    "log_close = np.log(data[\"Close\"])\n",
    "sqrt_close = np.sqrt(data['Close'])"
   ]
  },
  {
   "cell_type": "code",
   "execution_count": null,
   "id": "0401cfa6",
   "metadata": {},
   "outputs": [],
   "source": [
    "##Checking Distribution of Our Data \n",
    "fig = plt.figure(figsize=(10,8))\n",
    "sns.distplot(log_close)\n",
    "\n",
    "plt.xticks(fontsize=16)\n",
    "plt.yticks(fontsize=16)"
   ]
  },
  {
   "cell_type": "code",
   "execution_count": null,
   "id": "b496b52d",
   "metadata": {},
   "outputs": [],
   "source": [
    "##Checking Distribution of Our Data \n",
    "fig = plt.figure(figsize=(10,8))\n",
    "sns.distplot(sqrt_close)\n",
    "\n",
    "plt.xticks(fontsize=16)\n",
    "plt.yticks(fontsize=16)"
   ]
  },
  {
   "cell_type": "code",
   "execution_count": null,
   "id": "d2830468",
   "metadata": {},
   "outputs": [],
   "source": [
    "# Converting 'Date' to datetime object\n",
    "df['Date'] = pd.to_datetime(df['Date'])\n",
    "df['Year'] = df['Date'].dt.year\n",
    "df['Month'] = df['Date'].dt.month\n",
    "df['Quarter'] = df['Date'].dt.quarter"
   ]
  },
  {
   "cell_type": "code",
   "execution_count": null,
   "id": "0ee4ed59",
   "metadata": {},
   "outputs": [],
   "source": [
    "df"
   ]
  },
  {
   "cell_type": "code",
   "execution_count": null,
   "id": "28d70522",
   "metadata": {},
   "outputs": [],
   "source": [
    "df.describe()"
   ]
  },
  {
   "cell_type": "code",
   "execution_count": null,
   "id": "ec78995e",
   "metadata": {},
   "outputs": [],
   "source": [
    "data=df.copy()\n",
    "data"
   ]
  },
  {
   "cell_type": "code",
   "execution_count": null,
   "id": "3c92e8d9",
   "metadata": {},
   "outputs": [],
   "source": [
    "# Plot Daily Volume Lineplot\n",
    "fig, ax = plt.subplots(figsize=(18, 6))\n",
    "sns.lineplot(data['Date'], data['Volume'] )"
   ]
  },
  {
   "cell_type": "code",
   "execution_count": null,
   "id": "1670adf4",
   "metadata": {},
   "outputs": [],
   "source": [
    "# Aggregating the Time Series to a monthly scaled index\n",
    "y = data[['Date','Volume']].copy()\n",
    "y.set_index('Date', inplace=True)\n",
    "y.index = pd.to_datetime(y.index)\n",
    "y = y.resample('1M').mean()\n",
    "y['Date'] = y.index\n",
    "\n",
    "# Plot the Monthly Volume Lineplot\n",
    "fig, ax = plt.subplots(figsize=(15, 6))\n",
    "sns.lineplot(y['Date'], y['Volume'] )\n",
    "\n",
    "ax.set_title('Monthly Volume', fontsize = 15, loc='center')\n",
    "ax.set_xlabel('Year', fontsize = 12)\n",
    "plt.tick_params(axis='y', which='major', labelsize=12)\n",
    "plt.tick_params(axis='x', which='major', labelsize=12)"
   ]
  },
  {
   "cell_type": "code",
   "execution_count": null,
   "id": "3aef6e54",
   "metadata": {},
   "outputs": [],
   "source": [
    "data['Year'].unique()"
   ]
  },
  {
   "cell_type": "code",
   "execution_count": null,
   "id": "66c229d1",
   "metadata": {},
   "outputs": [],
   "source": [
    "variable = 'Close'\n",
    "fig, ax = plt.subplots(figsize=(18, 6))\n",
    "\n",
    "sns.lineplot(data['Month'], data[variable], hue = data['Year'])\n",
    "ax.set_title('Seasonal plot of Price', fontsize = 15)"
   ]
  },
  {
   "cell_type": "code",
   "execution_count": null,
   "id": "10b256be",
   "metadata": {},
   "outputs": [],
   "source": [
    "fig, ax = plt.subplots(figsize=(20,10))\n",
    "palette = sns.color_palette(\"mako_r\", 4)\n",
    "a = sns.barplot(x=\"Year\", y=\"Close\",hue = 'Quarter',data= data)\n",
    "a.set_title(\"Stock Prices Year & Month Wise\",fontsize=15)\n",
    "plt.legend(loc='upper left')\n",
    "plt.show()"
   ]
  },
  {
   "cell_type": "code",
   "execution_count": null,
   "id": "54d5e3d0",
   "metadata": {},
   "outputs": [],
   "source": [
    "fig, ax = plt.subplots(figsize=(20,10))\n",
    "palette = sns.color_palette(\"mako_r\", 4)\n",
    "a = sns.barplot(x=\"Quarter\", y=\"Close\",hue = 'Year',data= data)\n",
    "a.set_title(\"Stock Prices Year & Month Wise\",fontsize=15)\n",
    "plt.legend(loc='upper left')\n",
    "plt.show()"
   ]
  },
  {
   "cell_type": "code",
   "execution_count": 22,
   "id": "451b0d60",
   "metadata": {},
   "outputs": [
    {
     "ename": "ModuleNotFoundError",
     "evalue": "No module named 'statsmodels'",
     "output_type": "error",
     "traceback": [
      "\u001b[1;31m---------------------------------------------------------------------------\u001b[0m",
      "\u001b[1;31mModuleNotFoundError\u001b[0m                       Traceback (most recent call last)",
      "\u001b[1;32m~\\AppData\\Local\\Temp\\ipykernel_15132\\500432484.py\u001b[0m in \u001b[0;36m<module>\u001b[1;34m\u001b[0m\n\u001b[1;32m----> 1\u001b[1;33m \u001b[1;32mfrom\u001b[0m \u001b[0mstatsmodels\u001b[0m\u001b[1;33m.\u001b[0m\u001b[0mgraphics\u001b[0m\u001b[1;33m.\u001b[0m\u001b[0mtsaplots\u001b[0m \u001b[1;32mimport\u001b[0m \u001b[0mquarter_plot\u001b[0m\u001b[1;33m\u001b[0m\u001b[1;33m\u001b[0m\u001b[0m\n\u001b[0m",
      "\u001b[1;31mModuleNotFoundError\u001b[0m: No module named 'statsmodels'"
     ]
    }
   ],
   "source": [
    "from statsmodels.graphics.tsaplots import quarter_plot"
   ]
  },
  {
   "cell_type": "code",
   "execution_count": null,
   "id": "457e5b9c",
   "metadata": {},
   "outputs": [],
   "source": [
    "# Using quarter_plot to plot the mean of the prices.\n",
    "df=data.copy()\n",
    "df.set_index([\"Date\"],inplace=True)\n",
    "quarter_plot(df['Close'].resample('Q').mean())\n",
    "plt.title('Mean Adjsuted Price v/s Quarters')\n",
    "plt.xlabel('Quarters')\n",
    "plt.ylabel('Mean Adjusted Price')\n",
    "plt.show()"
   ]
  },
  {
   "cell_type": "code",
   "execution_count": null,
   "id": "62cb6d70",
   "metadata": {},
   "outputs": [],
   "source": [
    "import altair as alt\n",
    "import numpy as np\n",
    "import pandas as pd\n",
    "\n",
    "\n",
    "alt.Chart(data).mark_line(\n",
    "    point=True\n",
    ").encode(\n",
    "    x='Month',\n",
    "    y='Close',\n",
    "    column = 'Year'\n",
    "     \n",
    ").properties(\n",
    "    title=\"Sales: Yearly Subseries plot\",\n",
    "    width=100).configure_header(\n",
    "    titleColor='black',\n",
    "    titleFontSize=14,\n",
    "    labelColor='blue',\n",
    "    labelFontSize=14\n",
    ")"
   ]
  },
  {
   "cell_type": "code",
   "execution_count": null,
   "id": "1af234f1",
   "metadata": {},
   "outputs": [],
   "source": [
    "alt.Chart(data).mark_line(\n",
    "    point=True\n",
    ").encode(\n",
    "    x='Year',\n",
    "    y='Close',\n",
    "    column = 'Quarter'\n",
    "     \n",
    ").properties(\n",
    "    title=\"Sales: Yearly Subseries plot\",\n",
    "    width=100).configure_header(\n",
    "    titleColor='black',\n",
    "    titleFontSize=14,\n",
    "    labelColor='blue',\n",
    "    labelFontSize=14\n",
    ")"
   ]
  },
  {
   "cell_type": "code",
   "execution_count": null,
   "id": "da61c880",
   "metadata": {},
   "outputs": [],
   "source": [
    "sns.boxplot(data['Year'], data[variable])"
   ]
  },
  {
   "cell_type": "code",
   "execution_count": null,
   "id": "7a058d44",
   "metadata": {},
   "outputs": [],
   "source": [
    "sns.boxplot(data['Month'], data[variable])"
   ]
  },
  {
   "cell_type": "code",
   "execution_count": null,
   "id": "f5e07111",
   "metadata": {},
   "outputs": [],
   "source": [
    "# Aggregating the Time Series to a monthly scaled index\n",
    "y = data[['Date','Open','Close']].copy()\n",
    "y.set_index('Date', inplace=True)\n",
    "y.index = pd.to_datetime(y.index)\n",
    "y = y.resample('1M').mean()"
   ]
  },
  {
   "cell_type": "code",
   "execution_count": null,
   "id": "52c2682f",
   "metadata": {},
   "outputs": [],
   "source": [
    "from pylab import rcParams\n",
    "import statsmodels.api as sm"
   ]
  },
  {
   "cell_type": "code",
   "execution_count": null,
   "id": "b7ef6a26",
   "metadata": {},
   "outputs": [],
   "source": [
    "# Aggregating the Time Series to a monthly scaled index\n",
    "y = data[['Date','Close']].copy()\n",
    "y.set_index('Date', inplace=True)\n",
    "#y.index = pd.to_datetime(y.index)\n",
    "y = y.resample('1M').mean()\n",
    "\n",
    "# Setting rcparams\n",
    "rcParams['figure.figsize'] = 15, 12\n",
    "rcParams['axes.labelsize'] = 15\n",
    "rcParams['ytick.labelsize'] = 12\n",
    "rcParams['xtick.labelsize'] = 10\n",
    "\n",
    "# Using statistical tools of statsmodel library\n",
    "decomposition = sm.tsa.seasonal_decompose(y, model='multiplicative')\n",
    "decomp = decomposition.plot()\n",
    "decomp.suptitle('Close decomposition', fontsize=15)"
   ]
  },
  {
   "cell_type": "markdown",
   "id": "c545c591",
   "metadata": {},
   "source": [
    "# Checking For Stationarity"
   ]
  },
  {
   "cell_type": "markdown",
   "id": "f221c880",
   "metadata": {},
   "source": [
    "A stationary Time Series is one whose properties do not depend on the time at which the series is observed. Thus, time series with trends, or with seasonality, are not stationary\n",
    "\n",
    "A time series with cyclic behavior (but with no trend or seasonality) is stationary.\n",
    "\n",
    "Methods to Check the Stationarity\n",
    "\n",
    "1.statistical tests called Unit Root Tests like Augmented Dickey Fuller test (ADF Test)\n",
    "2.Kwiatkowski-Phillips-Schmidt-Shin — KPSS test (trend stationary)\n",
    "3.Philips Perron test (PP Test).\n",
    "The most commonly used is the ADF test, where the null hypothesis is that the time series possesses a unit root (or random walk with drift) and is non-stationary. So, if the P-Value in ADF test is less than the significance level (0.05), you reject the null hypothesis and the series is stationary."
   ]
  },
  {
   "cell_type": "code",
   "execution_count": null,
   "id": "3390d1dd",
   "metadata": {},
   "outputs": [],
   "source": [
    "#Augmented Dicky Fuller Test"
   ]
  },
  {
   "cell_type": "code",
   "execution_count": null,
   "id": "9cfc0f18",
   "metadata": {},
   "outputs": [],
   "source": [
    "from statsmodels.tsa.stattools import adfuller"
   ]
  },
  {
   "cell_type": "code",
   "execution_count": null,
   "id": "77a933b8",
   "metadata": {},
   "outputs": [],
   "source": [
    "# check for stationarity\n",
    "def adf_test(series, title=''):\n",
    "    \"\"\"\n",
    "    Pass in a time series and an optional title, returns an ADF report\n",
    "    \"\"\"\n",
    "    print('Augmented Dickey-Fuller Test: {}'.format(title))\n",
    "    # .dropna() handles differenced data\n",
    "    result = adfuller(series.dropna(),autolag='AIC') \n",
    "    \n",
    "    labels = ['ADF test statistic','p-value','# lags used','# observations']\n",
    "    out = pd.Series(result[0:4],index=labels)\n",
    "\n",
    "    for key,val in result[4].items():\n",
    "        out['critical value ({})'.format(key)]=val\n",
    "        \n",
    "    # .to_string() removes the line \"dtype: float64\"\n",
    "    print(out.to_string())          \n",
    "    \n",
    "    if result[1] <= 0.05:\n",
    "        print(\"Strong evidence against the null hypothesis\")\n",
    "        print(\"Reject the null hypothesis\")\n",
    "        print(\"Data has no unit root and is stationary\")\n",
    "    else:\n",
    "        print(\"Weak evidence against the null hypothesis\")\n",
    "        print(\"Fail to reject the null hypothesis\")\n",
    "        print(\"Data has a unit root and is non-stationary\")\n",
    "        \n",
    "# Aggregating the Time Series to a monthly scaled index\n",
    "y = data[['Date','Close']].copy()\n",
    "y.set_index('Date', inplace=True)\n",
    "y.index = pd.to_datetime(y.index)\n",
    "#y = y.resample('M').mean()\n",
    "        \n",
    "adf_test(y['Close'],title='') "
   ]
  },
  {
   "cell_type": "code",
   "execution_count": null,
   "id": "400c4a0b",
   "metadata": {},
   "outputs": [],
   "source": [
    "#KPSS test"
   ]
  },
  {
   "cell_type": "code",
   "execution_count": null,
   "id": "4edf567a",
   "metadata": {},
   "outputs": [],
   "source": [
    "from statsmodels.tsa.stattools import kpss"
   ]
  },
  {
   "cell_type": "code",
   "execution_count": null,
   "id": "ba90c25b",
   "metadata": {},
   "outputs": [],
   "source": [
    "# KPSS test\n",
    "from statsmodels.tsa.stattools import kpss\n",
    "def kpss_test(series, **kw):    \n",
    "    statistic, p_value, n_lags, critical_values = kpss(series, 'ct')\n",
    "    # Format Output\n",
    "    print(f'KPSS Statistic: {statistic}')\n",
    "    print(f'p-value: {p_value}')\n",
    "    print(f'num lags: {n_lags}')\n",
    "    print('Critial Values:')\n",
    "    for key, value in critical_values.items():\n",
    "        print(f'   {key} : {value}')\n",
    "    print(f'Result: The series is {\"not \" if p_value < 0.05 else \"\"}stationary')\n",
    "\n",
    "kpss_test(y)"
   ]
  },
  {
   "cell_type": "markdown",
   "id": "6f650cac",
   "metadata": {},
   "source": [
    "# Coverting Non-stationary data to Stationary data\n"
   ]
  },
  {
   "cell_type": "markdown",
   "id": "aee5fcdf",
   "metadata": {},
   "source": [
    "There are several ways to make a Time Series stationary\n",
    "\n",
    "1.Difference the series once or more times (subtracting the next value by the current value)\n",
    "\n",
    "2.Take the log of the series (helps to stabilize the variance of a time series.)\n",
    "\n",
    "3.Take the nth root of the series\n",
    "\n",
    "4.Combinations of the above"
   ]
  },
  {
   "cell_type": "code",
   "execution_count": null,
   "id": "34aad8bd",
   "metadata": {},
   "outputs": [],
   "source": [
    "#Day Differencing"
   ]
  },
  {
   "cell_type": "code",
   "execution_count": null,
   "id": "904c83ee",
   "metadata": {},
   "outputs": [],
   "source": [
    "y = data[['Date','Close']].copy()\n",
    "y = y.set_index(['Date'])\n",
    "y[:5]"
   ]
  },
  {
   "cell_type": "code",
   "execution_count": null,
   "id": "6179449d",
   "metadata": {},
   "outputs": [],
   "source": [
    "y[\"diff1\"] = y['Close'] - y['Close'].shift()"
   ]
  },
  {
   "cell_type": "code",
   "execution_count": null,
   "id": "bc3636ab",
   "metadata": {},
   "outputs": [],
   "source": [
    "y"
   ]
  },
  {
   "cell_type": "code",
   "execution_count": null,
   "id": "dba6fa3e",
   "metadata": {},
   "outputs": [],
   "source": [
    "y = data[['Date','Close']].copy()\n",
    "y = y.set_index(['Date'])\n",
    "y[:5].diff(2)"
   ]
  },
  {
   "cell_type": "code",
   "execution_count": null,
   "id": "5d378aea",
   "metadata": {},
   "outputs": [],
   "source": [
    "pd.concat([y['Close'], y['Close'].diff(2), y['Close'].diff()],axis=1).plot(figsize=(12,8))"
   ]
  },
  {
   "cell_type": "code",
   "execution_count": null,
   "id": "8c9b2a85",
   "metadata": {},
   "outputs": [],
   "source": [
    "plt.figure(figsize=(12,6))\n",
    "plt.plot(y.diff(2),label=\"diff(2)\")\n",
    "plt.plot(y.diff(),label=\"diff(1)\")\n",
    "plt.legend()"
   ]
  },
  {
   "cell_type": "code",
   "execution_count": null,
   "id": "8437a671",
   "metadata": {},
   "outputs": [],
   "source": [
    "from statsmodels.tsa.statespace.tools import diff"
   ]
  },
  {
   "cell_type": "code",
   "execution_count": null,
   "id": "4b633e34",
   "metadata": {},
   "outputs": [],
   "source": [
    "fig, ax = plt.subplots(nrows=2, ncols=2,figsize=(15, 11))\n",
    "\n",
    "y['CloseDiff1'] = diff(y['Close'],k_diff=1)\n",
    "y['CloseDiff2'] = diff(y['Close'],k_diff=2)\n",
    "y['CloseDiff3'] = diff(y['Close'],k_diff=3)\n",
    "\n",
    "y['Close'].plot(title=\"Initial Data\",ax=ax[0][0]).autoscale(axis='x',tight=True);\n",
    "y['CloseDiff1'].plot(title=\"First Difference Data\",ax=ax[0][1]).autoscale(axis='x',tight=True);\n",
    "y['CloseDiff2'].plot(title=\"Second Difference Data\",ax=ax[1][0]).autoscale(axis='x',tight=True);\n",
    "y['CloseDiff3'].plot(title=\"Third Difference Data\",ax=ax[1][1]).autoscale(axis='x',tight=True);\n",
    "\n",
    "fig.autofmt_xdate()"
   ]
  },
  {
   "cell_type": "code",
   "execution_count": null,
   "id": "ba2b5737",
   "metadata": {},
   "outputs": [],
   "source": [
    "y"
   ]
  },
  {
   "cell_type": "markdown",
   "id": "08dfc5da",
   "metadata": {},
   "source": [
    "# Check for stationarity for Differenced data"
   ]
  },
  {
   "cell_type": "code",
   "execution_count": null,
   "id": "f48be4bc",
   "metadata": {},
   "outputs": [],
   "source": [
    "# check for stationarity\n",
    "def adf_test(series, title=''):\n",
    "    \"\"\"\n",
    "    Pass in a time series and an optional title, returns an ADF report\n",
    "    \"\"\"\n",
    "    print('Augmented Dickey-Fuller Test: {}'.format(title))\n",
    "    # .dropna() handles differenced data\n",
    "    result = adfuller(series.dropna(),autolag='AIC') \n",
    "    \n",
    "    labels = ['ADF test statistic','p-value','# lags used','# observations']\n",
    "    out = pd.Series(result[0:4],index=labels)\n",
    "\n",
    "    for key,val in result[4].items():\n",
    "        out['critical value ({})'.format(key)]=val\n",
    "        \n",
    "    # .to_string() removes the line \"dtype: float64\"\n",
    "    print(out.to_string())          \n",
    "    \n",
    "    if result[1] <= 0.05:\n",
    "        print(\"Strong evidence against the null hypothesis\")\n",
    "        print(\"Reject the null hypothesis\")\n",
    "        print(\"Data has no unit root and is stationary\")\n",
    "    else:\n",
    "        print(\"Weak evidence against the null hypothesis\")\n",
    "        print(\"Fail to reject the null hypothesis\")\n",
    "        print(\"Data has a unit root and is non-stationary\")\n",
    "        \n",
    "\n",
    "adf_test(y['CloseDiff1'],title='') "
   ]
  },
  {
   "cell_type": "markdown",
   "id": "f8348c27",
   "metadata": {},
   "source": [
    "# ACF and PACF plots"
   ]
  },
  {
   "cell_type": "markdown",
   "id": "a53eba89",
   "metadata": {},
   "source": [
    "Auto Correlation function and Partial Auto Correlation Function\n",
    "\n",
    "ACF is nothing but Correlatio between \"y\" i,e. 'Close' and its own lags\n",
    "\n",
    "PACF tells you, The strenght of relationship between \"y\" and lags of \"y\" after removing the effects of Intermediate lags"
   ]
  },
  {
   "cell_type": "code",
   "execution_count": null,
   "id": "36302e60",
   "metadata": {},
   "outputs": [],
   "source": [
    "from statsmodels.graphics.tsaplots import plot_acf, plot_pacf"
   ]
  },
  {
   "cell_type": "code",
   "execution_count": null,
   "id": "e24e722b",
   "metadata": {},
   "outputs": [],
   "source": [
    "f, ax = plt.subplots(nrows=2, ncols=1, figsize=(14, 10))\n",
    "plot_acf(data['Close'],lags=60, ax=ax[0])\n",
    "plot_pacf(data['Close'],lags=60, ax=ax[1], method='ols')\n",
    "\n",
    "ax[1].annotate('Strong correlation at lag = 1D', xy=(1, 0.6),  xycoords='data',\n",
    "            xytext=(0.17, 0.75), textcoords='axes fraction',\n",
    "            arrowprops=dict(color='red', shrink=0.05, width=1))\n",
    "\n",
    "\n",
    "plt.tight_layout()\n",
    "plt.show()"
   ]
  },
  {
   "cell_type": "markdown",
   "id": "53bd4be3",
   "metadata": {},
   "source": [
    "# ACF and PACF plots for Differenced data"
   ]
  },
  {
   "cell_type": "code",
   "execution_count": null,
   "id": "6994098a",
   "metadata": {},
   "outputs": [],
   "source": [
    "f, ax = plt.subplots(nrows=2, ncols=1, figsize=(14, 10))\n",
    "plot_acf(y['CloseDiff1'].dropna(),lags=60, ax=ax[0])\n",
    "plot_pacf(y['CloseDiff1'].dropna(),lags=60, ax=ax[1], method='ols')\n",
    "\n",
    "ax[1].annotate('Strong correlation at lag = 1D', xy=(1, 0.6),  xycoords='data',\n",
    "            xytext=(0.17, 0.75), textcoords='axes fraction',\n",
    "            arrowprops=dict(color='red', shrink=0.05, width=1))\n",
    "\n",
    "\n",
    "plt.tight_layout()\n",
    "plt.show()"
   ]
  },
  {
   "cell_type": "markdown",
   "id": "070f2c88",
   "metadata": {},
   "source": [
    "The lags which are crossing the significant area are having a statistically significant correlation with \"y\"\n",
    "\n",
    "There is significant spike at lag 1 in athe ACF, but none beyond lag 1, so we can choose q value as 1\n",
    "\n",
    "There is significant spike at lag 1 in athe PACF, but none beyond lag 1, so we can choose p value as 1"
   ]
  },
  {
   "cell_type": "markdown",
   "id": "55a20a63",
   "metadata": {},
   "source": [
    "# Seasonal Differencing"
   ]
  },
  {
   "cell_type": "markdown",
   "id": "82eb31db",
   "metadata": {},
   "source": [
    "# Quaterly Differencing"
   ]
  },
  {
   "cell_type": "code",
   "execution_count": null,
   "id": "bdb00409",
   "metadata": {},
   "outputs": [],
   "source": [
    "# Aggregating the Time Series to a monthly scaled index\n",
    "y = data[['Date','Close']].copy()\n",
    "y.set_index('Date', inplace=True)\n",
    "y.index = pd.to_datetime(y.index)\n",
    "y = y.resample('Q').mean()"
   ]
  },
  {
   "cell_type": "code",
   "execution_count": null,
   "id": "8b3cf569",
   "metadata": {},
   "outputs": [],
   "source": [
    "plt.figure(figsize=(12,6))\n",
    "plt.plot(y.diff(2),label=\"diff(2)\")\n",
    "plt.plot(y.diff(),label=\"diff(1)\")\n",
    "plt.legend()"
   ]
  },
  {
   "cell_type": "code",
   "execution_count": null,
   "id": "b43afc91",
   "metadata": {},
   "outputs": [],
   "source": [
    "f, ax = plt.subplots(nrows=2, ncols=1, figsize=(12, 8))\n",
    "plot_acf(y[\"Close\"].diff().dropna(),lags=10, ax=ax[0])\n",
    "plot_pacf(y['Close'].diff().dropna(),lags=10, ax=ax[1], method='ols')\n",
    "\n",
    "ax[1].annotate('Strong correlation at lag = 1Q', xy=(1, 0.6),  xycoords='data',\n",
    "            xytext=(0.17, 0.75), textcoords='axes fraction',\n",
    "            arrowprops=dict(color='red', shrink=0.05, width=1))\n",
    "\n",
    "\n",
    "plt.tight_layout()\n",
    "plt.show()"
   ]
  },
  {
   "cell_type": "markdown",
   "id": "95f105ed",
   "metadata": {},
   "source": [
    "# Monthly Differencing"
   ]
  },
  {
   "cell_type": "code",
   "execution_count": null,
   "id": "58e222e6",
   "metadata": {},
   "outputs": [],
   "source": [
    "# Aggregating the Time Series to a monthly scaled index\n",
    "y = data[['Date','Close']].copy()\n",
    "y.set_index('Date', inplace=True)\n",
    "y.index = pd.to_datetime(y.index)\n",
    "y = y.resample('M').mean()"
   ]
  },
  {
   "cell_type": "code",
   "execution_count": null,
   "id": "ceeaad61",
   "metadata": {},
   "outputs": [],
   "source": [
    "plt.figure(figsize=(12,6))\n",
    "plt.plot(y.diff(2),label=\"diff(2)\")\n",
    "plt.plot(y.diff(),label=\"diff(1)\")\n",
    "plt.legend()"
   ]
  },
  {
   "cell_type": "code",
   "execution_count": null,
   "id": "1ceeb6cd",
   "metadata": {},
   "outputs": [],
   "source": [
    "f, ax = plt.subplots(nrows=2, ncols=1, figsize=(12, 8))\n",
    "plot_acf(y['Close'].diff().dropna(),lags=10, ax=ax[0])\n",
    "plot_pacf(y['Close'].diff().dropna(),lags=10, ax=ax[1], method='ols')\n",
    "\n",
    "ax[1].annotate('Strong correlation at lag = 1M', xy=(1, 0.6),  xycoords='data',\n",
    "            xytext=(0.17, 0.75), textcoords='axes fraction',\n",
    "            arrowprops=dict(color='red', shrink=0.05, width=1))\n",
    "\n",
    "\n",
    "plt.tight_layout()\n",
    "plt.show()"
   ]
  },
  {
   "cell_type": "markdown",
   "id": "4f17b08e",
   "metadata": {},
   "source": [
    "# Yearly Differencing"
   ]
  },
  {
   "cell_type": "code",
   "execution_count": null,
   "id": "e7bc2b79",
   "metadata": {},
   "outputs": [],
   "source": [
    "# Aggregating the Time Series to a monthly scaled index\n",
    "y = data[['Date','Close']].copy()\n",
    "y.set_index('Date', inplace=True)\n",
    "y.index = pd.to_datetime(y.index)\n",
    "y = y.resample('A').mean()"
   ]
  },
  {
   "cell_type": "code",
   "execution_count": null,
   "id": "ee558dd6",
   "metadata": {},
   "outputs": [],
   "source": [
    "plt.figure(figsize=(12,6))\n",
    "plt.plot(y.diff(2),label=\"diff(2)\")\n",
    "plt.plot(y.diff(),label=\"diff(1)\")\n",
    "plt.legend()"
   ]
  },
  {
   "cell_type": "code",
   "execution_count": null,
   "id": "092b5950",
   "metadata": {},
   "outputs": [],
   "source": [
    "f, ax = plt.subplots(nrows=2, ncols=1, figsize=(12, 8))\n",
    "plot_acf(y['Close'].diff().dropna(),lags=2, ax=ax[0])\n",
    "plot_pacf(y['Close'].diff().dropna(),lags=2, ax=ax[1], method='ols')\n",
    "\n",
    "ax[1].annotate('Strong correlation at lag = 1M', xy=(1, 0.6),  xycoords='data',\n",
    "            xytext=(0.17, 0.75), textcoords='axes fraction',\n",
    "            arrowprops=dict(color='red', shrink=0.05, width=1))\n",
    "\n",
    "\n",
    "plt.tight_layout()\n",
    "plt.show()"
   ]
  },
  {
   "cell_type": "code",
   "execution_count": null,
   "id": "e45a1f0e",
   "metadata": {},
   "outputs": [],
   "source": [
    "data"
   ]
  },
  {
   "cell_type": "markdown",
   "id": "a4c7dd93",
   "metadata": {},
   "source": [
    "# Spliting the data into train and validation set 90/10"
   ]
  },
  {
   "cell_type": "code",
   "execution_count": null,
   "id": "ac74b224",
   "metadata": {},
   "outputs": [],
   "source": [
    "# Split data into train and validation set 90/10\n",
    "data_train, data_test = data[:int(len(data)*0.90)], data[int(len(data)*0.90):]\n",
    "\n",
    "# Index disappeared, put them back\n",
    "#data_test = data_test.set_index('Date', drop=False)\n",
    "#data_train = data_train.set_index('Date', drop=False)\n",
    "\n",
    "# Line plot\n",
    "fig, ax = plt.subplots(figsize=(15, 6))\n",
    "sns.lineplot(data_train.index, data_train['Close'], color = 'black')\n",
    "sns.lineplot(data_test.index, data_test['Close'], color = 'blue')\n",
    "\n",
    "# Formatting\n",
    "ax.set_title('Close Price', fontsize = 15, loc='center')\n",
    "ax.set_xlabel('Year', fontsize = 15)\n",
    "ax.set_ylabel('Price', fontsize = 15)\n",
    "plt.tick_params(axis='y', which='major', labelsize=12)\n",
    "plt.tick_params(axis='x', which='major', labelsize=12)\n",
    "plt.legend(loc='best' ,labels = ('train', 'test'))"
   ]
  },
  {
   "cell_type": "code",
   "execution_count": null,
   "id": "ea5e00c6",
   "metadata": {},
   "outputs": [],
   "source": [
    "data_train.tail(1)"
   ]
  },
  {
   "cell_type": "code",
   "execution_count": null,
   "id": "e4ad1c70",
   "metadata": {},
   "outputs": [],
   "source": [
    "data_test.head(1)"
   ]
  },
  {
   "cell_type": "markdown",
   "id": "8032cdc0",
   "metadata": {},
   "source": [
    "# ARIMA model"
   ]
  },
  {
   "cell_type": "code",
   "execution_count": null,
   "id": "1c26af7c",
   "metadata": {},
   "outputs": [],
   "source": [
    "from statsmodels.tsa.arima.model import ARIMA"
   ]
  },
  {
   "cell_type": "code",
   "execution_count": null,
   "id": "fb99e02c",
   "metadata": {},
   "outputs": [],
   "source": [
    "model = ARIMA(data_train['Close'], order = (1, 1, 1))   #p = 1, d = 1, q = 1\n",
    "arima_fit = model.fit()\n",
    "print(arima_fit.summary())"
   ]
  },
  {
   "cell_type": "code",
   "execution_count": null,
   "id": "4b5ef4b8",
   "metadata": {},
   "outputs": [],
   "source": [
    "data.shape[0]-data_train.shape[0]"
   ]
  },
  {
   "cell_type": "code",
   "execution_count": null,
   "id": "cafe79c4",
   "metadata": {},
   "outputs": [],
   "source": [
    "data_train.shape"
   ]
  },
  {
   "cell_type": "code",
   "execution_count": null,
   "id": "e54b297a",
   "metadata": {},
   "outputs": [],
   "source": [
    "data_test.shape"
   ]
  },
  {
   "cell_type": "code",
   "execution_count": null,
   "id": "81faa5ff",
   "metadata": {},
   "outputs": [],
   "source": [
    "df = pd.DataFrame({\n",
    "    'predicted' :arima_fit.forecast(202, alpha=0.05),\n",
    "    'Date' : data_test.index\n",
    "    })\n",
    "forecast=df.set_index([\"Date\"])\n",
    "forecast"
   ]
  },
  {
   "cell_type": "code",
   "execution_count": null,
   "id": "66bf1bbc",
   "metadata": {},
   "outputs": [],
   "source": [
    "forecast.plot()"
   ]
  },
  {
   "cell_type": "code",
   "execution_count": null,
   "id": "f1dc9204",
   "metadata": {},
   "outputs": [],
   "source": [
    "plt.figure(figsize=(12,5), dpi=100)\n",
    "plt.plot(data_train['Close'], label='training')\n",
    "plt.plot(data_train['Close'], color = 'black', label='train Stock Price')\n",
    "plt.plot(data_test['Close'], color = 'blue', label='test Stock Price')\n",
    "plt.plot(forecast, color = 'red',label='Predicted Stock Price')\n",
    "\n",
    "plt.title('Apple Stock Price Prediction')\n",
    "plt.xlabel('Date')\n",
    "plt.ylabel('Actual Stock Price')\n",
    "plt.legend(loc='upper left', fontsize=8)\n",
    "plt.show()"
   ]
  },
  {
   "cell_type": "code",
   "execution_count": null,
   "id": "f82440fb",
   "metadata": {},
   "outputs": [],
   "source": [
    "# Accuracy metrics\n",
    "def forecast_accuracy(forecast, actual):\n",
    "    mape = np.mean(np.abs(forecast - actual)/np.abs(actual))  # MAPE\n",
    "    me = np.mean(forecast - actual)             # ME\n",
    "    mae = np.mean(np.abs(forecast - actual))    # MAE\n",
    "    mpe = np.mean((forecast - actual)/actual)   # MPE\n",
    "    rmse = np.mean((forecast - actual)**2)**.5  # RMSE\n",
    "    corr = np.corrcoef(forecast, actual)[0,1]   # corr\n",
    "    mins = np.amin(np.hstack([forecast[:,None], \n",
    "                              actual[:,None]]), axis=1)\n",
    "    maxs = np.amax(np.hstack([forecast[:,None], \n",
    "                              actual[:,None]]), axis=1)\n",
    "    minmax = 1 - np.mean(mins/maxs)             # minmax\n",
    "                         # ACF1\n",
    "    return({'mape':mape, 'me':me, 'mae': mae, \n",
    "            'mpe': mpe, 'rmse':rmse,  \n",
    "            'corr':corr, 'minmax':minmax})\n",
    "\n",
    "forecast_accuracy(forecast[\"predicted\"], data_test[\"Close\"])"
   ]
  },
  {
   "cell_type": "code",
   "execution_count": null,
   "id": "2271b6db",
   "metadata": {},
   "outputs": [],
   "source": [
    "arima_fit.plot_diagnostics(lags=30, figsize=(16,12))\n",
    "plt.show()"
   ]
  },
  {
   "cell_type": "code",
   "execution_count": null,
   "id": "b58dc455",
   "metadata": {},
   "outputs": [],
   "source": [
    "y=data.copy()\n",
    "y = y.set_index([\"Date\"], drop=True)\n"
   ]
  },
  {
   "cell_type": "code",
   "execution_count": null,
   "id": "ae946c8c",
   "metadata": {},
   "outputs": [],
   "source": [
    "\n",
    "fig, axes = plt.subplots(2, 1, figsize=(10,5), dpi=100, sharex=True)\n",
    "\n",
    "# Usual Differencing\n",
    "axes[0].plot(y['Close'], label='Original Series')\n",
    "axes[0].plot(y[\"Close\"].diff(1), label='Usual Differencing')\n",
    "axes[0].set_title('Usual Differencing')\n",
    "axes[0].legend(loc='upper left', fontsize=10)\n",
    "\n",
    "\n",
    "# Seasinal Dei\n",
    "axes[1].plot(y[\"Close\"], label='Original Series')\n",
    "axes[1].plot(y[\"Close\"].diff(21), label='Seasonal Differencing', color='green')\n",
    "axes[1].set_title('Seasonal Differencing of 21 days')\n",
    "plt.legend(loc='upper left', fontsize=10)\n",
    "plt.suptitle('APPL stocks', fontsize=16)\n",
    "plt.show()"
   ]
  },
  {
   "cell_type": "code",
   "execution_count": null,
   "id": "e1977230",
   "metadata": {},
   "outputs": [],
   "source": [
    "# Plot\n",
    "fig, axes = plt.subplots(2, 1, figsize=(10,5), dpi=100, sharex=True)\n",
    "\n",
    "\n",
    "# Usual Differencing\n",
    "axes[0].plot(y['Close'], label='Original Series')\n",
    "axes[0].plot(y[\"Close\"].diff(1), label='Usual Differencing')\n",
    "axes[0].set_title('Usual Differencing')\n",
    "axes[0].legend(loc='upper left', fontsize=10)\n",
    "\n",
    "\n",
    "# Seasinal Dei\n",
    "axes[1].plot(y[\"Close\"], label='Original Series')\n",
    "axes[1].plot(y[\"Close\"].diff(63), label='Seasonal Differencing', color='green')\n",
    "axes[1].set_title('Seasonal Differencing of 63 days')\n",
    "plt.legend(loc='upper left', fontsize=10)\n",
    "plt.suptitle('APPL stocks', fontsize=16)\n",
    "plt.show()"
   ]
  },
  {
   "cell_type": "code",
   "execution_count": null,
   "id": "e342d141",
   "metadata": {},
   "outputs": [],
   "source": [
    "# Plot\n",
    "fig, axes = plt.subplots(2, 1, figsize=(10,5), dpi=100, sharex=True)\n",
    "\n",
    "# Usual Differencing\n",
    "axes[0].plot(y['Close'], label='Original Series')\n",
    "axes[0].plot(y[\"Close\"].diff(1), label='Usual Differencing')\n",
    "axes[0].set_title('Usual Differencing')\n",
    "axes[0].legend(loc='upper left', fontsize=10)\n",
    "\n",
    "\n",
    "# Seasinal Dei\n",
    "axes[1].plot(y[\"Close\"], label='Original Series')\n",
    "axes[1].plot(y[\"Close\"].diff(252), label='Seasonal Differencing', color='green')\n",
    "axes[1].set_title('Seasonal Differencing of 252')\n",
    "plt.legend(loc='upper left', fontsize=10)\n",
    "plt.suptitle('APPL stocks', fontsize=16)\n",
    "plt.show()"
   ]
  },
  {
   "cell_type": "code",
   "execution_count": null,
   "id": "6fb5de78",
   "metadata": {},
   "outputs": [],
   "source": [
    "f, ax = plt.subplots(nrows=2, ncols=1, figsize=(12, 8))\n",
    "plot_acf(y['Close'].diff(63).dropna(),lags=5, ax=ax[0])\n",
    "plot_pacf(y['Close'].diff(63).dropna(),lags=5, ax=ax[1], method='ols')\n",
    "\n",
    "ax[1].annotate('Strong correlation at lag = 1M', xy=(1, 0.6),  xycoords='data',\n",
    "            xytext=(0.17, 0.75), textcoords='axes fraction',\n",
    "            arrowprops=dict(color='red', shrink=0.05, width=1))\n",
    "\n",
    "\n",
    "plt.tight_layout()\n",
    "plt.show()"
   ]
  },
  {
   "cell_type": "markdown",
   "id": "683d4340",
   "metadata": {},
   "source": [
    "# SARIMA model for Quaternary Seasonality"
   ]
  },
  {
   "cell_type": "code",
   "execution_count": null,
   "id": "6fa6582a",
   "metadata": {},
   "outputs": [],
   "source": [
    "import statsmodels.api as sm"
   ]
  },
  {
   "cell_type": "code",
   "execution_count": null,
   "id": "bd23c4d1",
   "metadata": {},
   "outputs": [],
   "source": [
    "smodel = sm.tsa.statespace.SARIMAX(data_train['Close'],\n",
    "                                            order=(1,1,1),\n",
    "                                            seasonal_order=(1,1,1,63),\n",
    "                                            enforce_stationarity=False,\n",
    "                                            enforce_invertibility=False)\n",
    "q_results = smodel.fit()\n",
    "q_results.summary()"
   ]
  },
  {
   "cell_type": "code",
   "execution_count": null,
   "id": "461cff0b",
   "metadata": {},
   "outputs": [],
   "source": [
    "df = pd.DataFrame({\n",
    "    'predicted' :q_results.forecast(202, alpha=0.05),\n",
    "    'Date' : data_test.index\n",
    "    })\n",
    "q_fc=df.set_index([\"Date\"])\n",
    "q_fc"
   ]
  },
  {
   "cell_type": "code",
   "execution_count": null,
   "id": "ee9fa202",
   "metadata": {},
   "outputs": [],
   "source": [
    "plt.figure(figsize=(12,5), dpi=100)\n",
    "plt.plot(data_train['Close'], label='training')\n",
    "plt.plot(data_train['Close'], color = 'black', label='train Stock Price')\n",
    "plt.plot(data_test['Close'], color = 'blue', label='test Stock Price')\n",
    "plt.plot(q_fc, color = 'red',label='Predicted Stock Price')\n",
    "\n",
    "plt.title('Apple Stock Price Prediction')\n",
    "plt.xlabel('Date')\n",
    "plt.ylabel('Actual Stock Price')\n",
    "plt.legend(loc='upper left', fontsize=8)\n",
    "plt.show()"
   ]
  },
  {
   "cell_type": "code",
   "execution_count": null,
   "id": "fcc0e361",
   "metadata": {},
   "outputs": [],
   "source": [
    "plt.figure(figsize=(12,10), dpi=100)\n",
    "#plt.plot(data_train['Close'], label='training')\n",
    "#plt.plot(data_train['Close'], color = 'black', label='train Stock Price')\n",
    "plt.plot(data_test['Close'], color = 'blue', label='test Stock Price')\n",
    "plt.plot(q_fc, color = 'red',label='Predicted Stock Price')\n",
    "\n",
    "plt.title('Apple Stock Price Prediction')\n",
    "plt.xlabel('Date')\n",
    "plt.ylabel('Actual Stock Price')\n",
    "plt.legend(loc='upper left', fontsize=8)\n",
    "plt.show()"
   ]
  },
  {
   "cell_type": "code",
   "execution_count": 14,
   "id": "0686f725",
   "metadata": {},
   "outputs": [
    {
     "ename": "NameError",
     "evalue": "name 'q_fc' is not defined",
     "output_type": "error",
     "traceback": [
      "\u001b[1;31m---------------------------------------------------------------------------\u001b[0m",
      "\u001b[1;31mNameError\u001b[0m                                 Traceback (most recent call last)",
      "\u001b[1;32m~\\AppData\\Local\\Temp\\ipykernel_15132\\2983493788.py\u001b[0m in \u001b[0;36m<module>\u001b[1;34m\u001b[0m\n\u001b[0;32m     17\u001b[0m             'corr':corr, 'minmax':minmax})\n\u001b[0;32m     18\u001b[0m \u001b[1;33m\u001b[0m\u001b[0m\n\u001b[1;32m---> 19\u001b[1;33m \u001b[0mforecast_accuracy\u001b[0m\u001b[1;33m(\u001b[0m\u001b[0mq_fc\u001b[0m\u001b[1;33m[\u001b[0m\u001b[1;34m\"predicted\"\u001b[0m\u001b[1;33m]\u001b[0m\u001b[1;33m,\u001b[0m \u001b[0mdata_test\u001b[0m\u001b[1;33m[\u001b[0m\u001b[1;34m\"Close\"\u001b[0m\u001b[1;33m]\u001b[0m\u001b[1;33m)\u001b[0m\u001b[1;33m\u001b[0m\u001b[1;33m\u001b[0m\u001b[0m\n\u001b[0m",
      "\u001b[1;31mNameError\u001b[0m: name 'q_fc' is not defined"
     ]
    }
   ],
   "source": [
    "# Accuracy metrics\n",
    "def forecast_accuracy(forecast, actual):\n",
    "    mape = np.mean(np.abs(forecast - actual)/np.abs(actual))  # MAPE\n",
    "    me = np.mean(forecast - actual)             # ME\n",
    "    mae = np.mean(np.abs(forecast - actual))    # MAE\n",
    "    mpe = np.mean((forecast - actual)/actual)   # MPE\n",
    "    rmse = np.mean((forecast - actual)**2)**.5  # RMSE\n",
    "    corr = np.corrcoef(forecast, actual)[0,1]   # corr\n",
    "    mins = np.amin(np.hstack([forecast[:,None], \n",
    "                              actual[:,None]]), axis=1)\n",
    "    maxs = np.amax(np.hstack([forecast[:,None], \n",
    "                              actual[:,None]]), axis=1)\n",
    "    minmax = 1 - np.mean(mins/maxs)             # minmax\n",
    "                         # ACF1\n",
    "    return({'mape':mape, 'me':me, 'mae': mae, \n",
    "            'mpe': mpe, 'rmse':rmse,  \n",
    "            'corr':corr, 'minmax':minmax})\n",
    "\n",
    "forecast_accuracy(q_fc[\"predicted\"], data_test[\"Close\"])"
   ]
  },
  {
   "cell_type": "markdown",
   "id": "98c3afe4",
   "metadata": {},
   "source": [
    "# SARIMA model for 6 Months Seasonality"
   ]
  },
  {
   "cell_type": "code",
   "execution_count": null,
   "id": "934479d1",
   "metadata": {},
   "outputs": [],
   "source": [
    "smodel = sm.tsa.statespace.SARIMAX(data_train['Close'],\n",
    "                                            order=(1,1,1),\n",
    "                                            seasonal_order=(1,1,1,126),\n",
    "                                            enforce_stationarity=False,\n",
    "                                            enforce_invertibility=False)"
   ]
  },
  {
   "cell_type": "code",
   "execution_count": null,
   "id": "daf2ef6f",
   "metadata": {},
   "outputs": [],
   "source": [
    "hy_results = smodel.fit()\n",
    "hy_results.summary()"
   ]
  },
  {
   "cell_type": "code",
   "execution_count": null,
   "id": "bbb031fb",
   "metadata": {},
   "outputs": [],
   "source": [
    "df = pd.DataFrame({\n",
    "    'predicted' :hy_results.forecast(202, alpha=0.05),\n",
    "    'Date' : data_test.index\n",
    "    })\n",
    "hy_fc=df.set_index([\"Date\"])\n",
    "hy_fc"
   ]
  },
  {
   "cell_type": "code",
   "execution_count": null,
   "id": "1812c31d",
   "metadata": {},
   "outputs": [],
   "source": [
    "plt.figure(figsize=(12,5), dpi=100)\n",
    "plt.plot(data_train['Close'], label='training')\n",
    "plt.plot(data_train['Close'], color = 'black', label='train Stock Price')\n",
    "plt.plot(data_test['Close'], color = 'blue', label='test Stock Price')\n",
    "plt.plot(hy_fc, color = 'red',label='Predicted Stock Price')\n",
    "\n",
    "plt.title('Apple Stock Price Prediction')\n",
    "plt.xlabel('Date')\n",
    "plt.ylabel('Actual Stock Price')\n",
    "plt.legend(loc='upper left', fontsize=8)\n",
    "plt.show()"
   ]
  },
  {
   "cell_type": "code",
   "execution_count": null,
   "id": "a096a954",
   "metadata": {},
   "outputs": [],
   "source": [
    "plt.figure(figsize=(12,10), dpi=100)\n",
    "#plt.plot(data_train['Close'], label='training')\n",
    "#plt.plot(data_train['Close'], color = 'black', label='train Stock Price')\n",
    "plt.plot(data_test['Close'], color = 'blue', label='test Stock Price')\n",
    "plt.plot(hy_fc, color = 'red',label='Predicted Stock Price')\n",
    "\n",
    "plt.title('Apple Stock Price Prediction')\n",
    "plt.xlabel('Date')\n",
    "plt.ylabel('Actual Stock Price')\n",
    "plt.legend(loc='upper left', fontsize=8)\n",
    "plt.show()"
   ]
  },
  {
   "cell_type": "code",
   "execution_count": null,
   "id": "7d4f6bef",
   "metadata": {},
   "outputs": [],
   "source": [
    "# Accuracy metrics\n",
    "def forecast_accuracy(forecast, actual):\n",
    "    mape = np.mean(np.abs(forecast - actual)/np.abs(actual))  # MAPE\n",
    "    me = np.mean(forecast - actual)             # ME\n",
    "    mae = np.mean(np.abs(forecast - actual))    # MAE\n",
    "    mpe = np.mean((forecast - actual)/actual)   # MPE\n",
    "    rmse = np.mean((forecast - actual)**2)**.5  # RMSE\n",
    "    corr = np.corrcoef(forecast, actual)[0,1]   # corr\n",
    "    mins = np.amin(np.hstack([forecast[:,None], \n",
    "                              actual[:,None]]), axis=1)\n",
    "    maxs = np.amax(np.hstack([forecast[:,None], \n",
    "                              actual[:,None]]), axis=1)\n",
    "    minmax = 1 - np.mean(mins/maxs)             # minmax\n",
    "                         # ACF1\n",
    "    return({'mape':mape, 'me':me, 'mae': mae, \n",
    "            'mpe': mpe, 'rmse':rmse,  \n",
    "            'corr':corr, 'minmax':minmax})\n",
    "\n",
    "forecast_accuracy(hy_fc[\"predicted\"], data_test[\"Close\"])"
   ]
  },
  {
   "cell_type": "code",
   "execution_count": 3,
   "id": "23db0f6e",
   "metadata": {},
   "outputs": [],
   "source": [
    "import pickle\n"
   ]
  },
  {
   "cell_type": "code",
   "execution_count": 4,
   "id": "992cab3e",
   "metadata": {},
   "outputs": [
    {
     "ename": "NameError",
     "evalue": "name 'sm' is not defined",
     "output_type": "error",
     "traceback": [
      "\u001b[1;31m---------------------------------------------------------------------------\u001b[0m",
      "\u001b[1;31mNameError\u001b[0m                                 Traceback (most recent call last)",
      "\u001b[1;32m~\\AppData\\Local\\Temp\\ipykernel_15132\\786172187.py\u001b[0m in \u001b[0;36m<module>\u001b[1;34m\u001b[0m\n\u001b[1;32m----> 1\u001b[1;33m smodel = sm.tsa.statespace.SARIMAX(data.Close,\n\u001b[0m\u001b[0;32m      2\u001b[0m                                             \u001b[0morder\u001b[0m\u001b[1;33m=\u001b[0m\u001b[1;33m(\u001b[0m\u001b[1;36m1\u001b[0m\u001b[1;33m,\u001b[0m\u001b[1;36m1\u001b[0m\u001b[1;33m,\u001b[0m\u001b[1;36m1\u001b[0m\u001b[1;33m)\u001b[0m\u001b[1;33m,\u001b[0m\u001b[1;33m\u001b[0m\u001b[1;33m\u001b[0m\u001b[0m\n\u001b[0;32m      3\u001b[0m                                             \u001b[0mseasonal_order\u001b[0m\u001b[1;33m=\u001b[0m\u001b[1;33m(\u001b[0m\u001b[1;36m1\u001b[0m\u001b[1;33m,\u001b[0m\u001b[1;36m0\u001b[0m\u001b[1;33m,\u001b[0m\u001b[1;36m0\u001b[0m\u001b[1;33m,\u001b[0m\u001b[1;36m14\u001b[0m\u001b[1;33m)\u001b[0m\u001b[1;33m,\u001b[0m\u001b[1;33m\u001b[0m\u001b[1;33m\u001b[0m\u001b[0m\n\u001b[0;32m      4\u001b[0m                                             \u001b[0menforce_stationarity\u001b[0m\u001b[1;33m=\u001b[0m\u001b[1;32mFalse\u001b[0m\u001b[1;33m,\u001b[0m\u001b[1;33m\u001b[0m\u001b[1;33m\u001b[0m\u001b[0m\n\u001b[0;32m      5\u001b[0m                                             enforce_invertibility=False)\n",
      "\u001b[1;31mNameError\u001b[0m: name 'sm' is not defined"
     ]
    }
   ],
   "source": [
    "smodel = sm.tsa.statespace.SARIMAX(data.Close,\n",
    "                                            order=(1,1,1),\n",
    "                                            seasonal_order=(1,0,0,14),\n",
    "                                            enforce_stationarity=False,\n",
    "                                            enforce_invertibility=False)"
   ]
  },
  {
   "cell_type": "code",
   "execution_count": 114,
   "id": "21e5e8f3",
   "metadata": {},
   "outputs": [
    {
     "data": {
      "text/html": [
       "<table class=\"simpletable\">\n",
       "<caption>SARIMAX Results</caption>\n",
       "<tr>\n",
       "  <th>Dep. Variable:</th>                <td>Close</td>              <th>  No. Observations:  </th>   <td>2011</td>   \n",
       "</tr>\n",
       "<tr>\n",
       "  <th>Model:</th>           <td>SARIMAX(1, 1, 1)x(1, 0, [], 14)</td> <th>  Log Likelihood     </th> <td>-4342.289</td>\n",
       "</tr>\n",
       "<tr>\n",
       "  <th>Date:</th>                   <td>Sun, 12 Feb 2023</td>         <th>  AIC                </th> <td>8692.578</td> \n",
       "</tr>\n",
       "<tr>\n",
       "  <th>Time:</th>                       <td>10:33:31</td>             <th>  BIC                </th> <td>8714.972</td> \n",
       "</tr>\n",
       "<tr>\n",
       "  <th>Sample:</th>                         <td>0</td>                <th>  HQIC               </th> <td>8700.802</td> \n",
       "</tr>\n",
       "<tr>\n",
       "  <th></th>                             <td> - 2011</td>             <th>                     </th>     <td> </td>    \n",
       "</tr>\n",
       "<tr>\n",
       "  <th>Covariance Type:</th>               <td>opg</td>               <th>                     </th>     <td> </td>    \n",
       "</tr>\n",
       "</table>\n",
       "<table class=\"simpletable\">\n",
       "<tr>\n",
       "      <td></td>        <th>coef</th>     <th>std err</th>      <th>z</th>      <th>P>|z|</th>  <th>[0.025</th>    <th>0.975]</th>  \n",
       "</tr>\n",
       "<tr>\n",
       "  <th>ar.L1</th>    <td>   -0.3087</td> <td>    0.421</td> <td>   -0.733</td> <td> 0.464</td> <td>   -1.135</td> <td>    0.517</td>\n",
       "</tr>\n",
       "<tr>\n",
       "  <th>ma.L1</th>    <td>    0.3368</td> <td>    0.420</td> <td>    0.803</td> <td> 0.422</td> <td>   -0.486</td> <td>    1.159</td>\n",
       "</tr>\n",
       "<tr>\n",
       "  <th>ar.S.L14</th> <td>    0.0422</td> <td>    0.016</td> <td>    2.586</td> <td> 0.010</td> <td>    0.010</td> <td>    0.074</td>\n",
       "</tr>\n",
       "<tr>\n",
       "  <th>sigma2</th>   <td>    4.5505</td> <td>    0.071</td> <td>   64.206</td> <td> 0.000</td> <td>    4.412</td> <td>    4.689</td>\n",
       "</tr>\n",
       "</table>\n",
       "<table class=\"simpletable\">\n",
       "<tr>\n",
       "  <th>Ljung-Box (L1) (Q):</th>     <td>0.34</td> <th>  Jarque-Bera (JB):  </th> <td>3540.15</td>\n",
       "</tr>\n",
       "<tr>\n",
       "  <th>Prob(Q):</th>                <td>0.56</td> <th>  Prob(JB):          </th>  <td>0.00</td>  \n",
       "</tr>\n",
       "<tr>\n",
       "  <th>Heteroskedasticity (H):</th> <td>5.25</td> <th>  Skew:              </th>  <td>-0.43</td> \n",
       "</tr>\n",
       "<tr>\n",
       "  <th>Prob(H) (two-sided):</th>    <td>0.00</td> <th>  Kurtosis:          </th>  <td>9.47</td>  \n",
       "</tr>\n",
       "</table><br/><br/>Warnings:<br/>[1] Covariance matrix calculated using the outer product of gradients (complex-step)."
      ],
      "text/plain": [
       "<class 'statsmodels.iolib.summary.Summary'>\n",
       "\"\"\"\n",
       "                                      SARIMAX Results                                      \n",
       "===========================================================================================\n",
       "Dep. Variable:                               Close   No. Observations:                 2011\n",
       "Model:             SARIMAX(1, 1, 1)x(1, 0, [], 14)   Log Likelihood               -4342.289\n",
       "Date:                             Sun, 12 Feb 2023   AIC                           8692.578\n",
       "Time:                                     10:33:31   BIC                           8714.972\n",
       "Sample:                                          0   HQIC                          8700.802\n",
       "                                            - 2011                                         \n",
       "Covariance Type:                               opg                                         \n",
       "==============================================================================\n",
       "                 coef    std err          z      P>|z|      [0.025      0.975]\n",
       "------------------------------------------------------------------------------\n",
       "ar.L1         -0.3087      0.421     -0.733      0.464      -1.135       0.517\n",
       "ma.L1          0.3368      0.420      0.803      0.422      -0.486       1.159\n",
       "ar.S.L14       0.0422      0.016      2.586      0.010       0.010       0.074\n",
       "sigma2         4.5505      0.071     64.206      0.000       4.412       4.689\n",
       "===================================================================================\n",
       "Ljung-Box (L1) (Q):                   0.34   Jarque-Bera (JB):              3540.15\n",
       "Prob(Q):                              0.56   Prob(JB):                         0.00\n",
       "Heteroskedasticity (H):               5.25   Skew:                            -0.43\n",
       "Prob(H) (two-sided):                  0.00   Kurtosis:                         9.47\n",
       "===================================================================================\n",
       "\n",
       "Warnings:\n",
       "[1] Covariance matrix calculated using the outer product of gradients (complex-step).\n",
       "\"\"\""
      ]
     },
     "execution_count": 114,
     "metadata": {},
     "output_type": "execute_result"
    }
   ],
   "source": [
    "sarima63_fit = smodel.fit()\n",
    "sarima63_fit.summary()"
   ]
  },
  {
   "cell_type": "code",
   "execution_count": 115,
   "id": "5e8bbd8a",
   "metadata": {},
   "outputs": [],
   "source": [
    "sarima63_fit.save(\"model.pkl\")"
   ]
  },
  {
   "cell_type": "markdown",
   "id": "72f220a1",
   "metadata": {},
   "source": [
    "# Loading the saved model and forecasting for next 30 days"
   ]
  },
  {
   "cell_type": "code",
   "execution_count": 118,
   "id": "d72eb350",
   "metadata": {},
   "outputs": [],
   "source": [
    "loaded_model = pickle.load(open('model.pkl', 'rb'))"
   ]
  },
  {
   "cell_type": "code",
   "execution_count": 119,
   "id": "996884a0",
   "metadata": {},
   "outputs": [
    {
     "data": {
      "text/plain": [
       "<AxesSubplot:>"
      ]
     },
     "execution_count": 119,
     "metadata": {},
     "output_type": "execute_result"
    },
    {
     "data": {
      "image/png": "[encoded data removed]",
      "text/plain": [
       "<Figure size 1080x864 with 1 Axes>"
      ]
     },
     "metadata": {},
     "output_type": "display_data"
    }
   ],
   "source": [
    "loaded_model.forecast(30).plot()"
   ]
  },
  {
   "cell_type": "code",
   "execution_count": 2,
   "id": "80073331",
   "metadata": {},
   "outputs": [
    {
     "ename": "NameError",
     "evalue": "name 'smodel' is not defined",
     "output_type": "error",
     "traceback": [
      "\u001b[1;31m---------------------------------------------------------------------------\u001b[0m",
      "\u001b[1;31mNameError\u001b[0m                                 Traceback (most recent call last)",
      "\u001b[1;32m~\\AppData\\Local\\Temp\\ipykernel_15132\\3370731843.py\u001b[0m in \u001b[0;36m<module>\u001b[1;34m\u001b[0m\n\u001b[1;32m----> 1\u001b[1;33m \u001b[0msmodel\u001b[0m\u001b[1;33m.\u001b[0m\u001b[0msav\u001b[0m\u001b[1;33m\u001b[0m\u001b[1;33m\u001b[0m\u001b[0m\n\u001b[0m",
      "\u001b[1;31mNameError\u001b[0m: name 'smodel' is not defined"
     ]
    }
   ],
   "source": [
    "smodel.sav"
   ]
  },
  {
   "cell_type": "code",
   "execution_count": null,
   "id": "87084639",
   "metadata": {},
   "outputs": [],
   "source": []
  },
  {
   "cell_type": "code",
   "execution_count": null,
   "id": "9d106120",
   "metadata": {},
   "outputs": [],
   "source": []
  }
 ],
 "metadata": {
  "kernelspec": {
   "display_name": "Python 3 (ipykernel)",
   "language": "python",
   "name": "python3"
  },
  "language_info": {
   "codemirror_mode": {
    "name": "ipython",
    "version": 3
   },
   "file_extension": ".py",
   "mimetype": "text/x-python",
   "name": "python",
   "nbconvert_exporter": "python",
   "pygments_lexer": "ipython3",
   "version": "3.9.16"
  }
 },
 "nbformat": 4,
 "nbformat_minor": 5
}
